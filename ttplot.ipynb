{
 "cells": [
  {
   "cell_type": "code",
   "execution_count": 4,
   "metadata": {},
   "outputs": [],
   "source": [
    "import matplotlib.pyplot as plt\n",
    "import numpy as np\n",
    "from ipywidgets import interact, FloatSlider, Output\n",
    "from shapely.geometry import Polygon\n",
    "\n",
    "space = np.linspace(0, 1, 1000)"
   ]
  },
  {
   "cell_type": "markdown",
   "metadata": {},
   "source": [
    "First, let's consider a single transition in standard PLA where we are selecting $p$ against $1-p$.\n",
    "\n",
    "<img src=\"1.jpeg\" width=\"400\"/>"
   ]
  },
  {
   "cell_type": "code",
   "execution_count": null,
   "metadata": {},
   "outputs": [],
   "source": [
    "def plot_with_region(lower_bound, upper_bound):\n",
    "    fig, ax = plt.subplots()\n",
    "    ax.set_xlim([0.0, 1.0])\n",
    "    ax.set_xlabel(\"prob to reach $s_1$ from $s_0$\")\n",
    "    ax.set_ylim([0.0, 1.0])\n",
    "    ax.set_ylabel(\"prob to reach $s_2$ from $s_0$\")\n",
    "    ax.plot(space, 1 - space)\n",
    "    ax.plot(lower_bound, 1 - lower_bound, \"bo\")\n",
    "    ax.plot(upper_bound, 1 - upper_bound, \"bo\")\n",
    "interact(plot_with_region, lower_bound=(0.0, 1.0, 0.01), upper_bound=(0.0, 1.0, 0.01))\n",
    "    "
   ]
  },
  {
   "cell_type": "markdown",
   "metadata": {},
   "source": [
    "Now let's introduce some parameter dependencies. Consider this situation:\n",
    "\n",
    "<img src=\"2.jpeg\" width=\"400\"/>\n",
    "\n",
    "First, we will see how the probability to reach selected states relate when using standard parameter lifting and when using big-step lifting."
   ]
  },
  {
   "cell_type": "code",
   "execution_count": 12,
   "metadata": {},
   "outputs": [
    {
     "data": {
      "application/vnd.jupyter.widget-view+json": {
       "model_id": "466a3ece9e6e497988aba773db81cafb",
       "version_major": 2,
       "version_minor": 0
      },
      "text/plain": [
       "interactive(children=(FloatSlider(value=0.2, description='lower_bound', max=1.0, step=0.01), FloatSlider(value…"
      ]
     },
     "metadata": {},
     "output_type": "display_data"
    }
   ],
   "source": [
    "\n",
    "plt.ion()\n",
    "def plot_with_region(lower_bound, upper_bound):\n",
    "    figs, axs = plt.subplots(1,2, figsize=(14, 7))\n",
    "    for ax in axs:\n",
    "        ax.set_xlim([0.0, 1.0])\n",
    "        ax.set_xlabel(\"prob to reach $s_2$ from $s_0$ ($=a$)\")\n",
    "        ax.set_ylim([0.0, 1.0])\n",
    "        ax.set_ylabel(\"prob to reach $s_3$ from $s_0$ ($=b$)\")\n",
    "        ax.plot(space * space, space * (1 - space))\n",
    "        ax.plot(lower_bound * lower_bound, lower_bound * (1 - lower_bound), \"bo\")\n",
    "        ax.plot(upper_bound * upper_bound, upper_bound * (1 - upper_bound), \"bo\")\n",
    "    \n",
    "    # standard PLA\n",
    "    axs[0].set_title(\"Standard PLA\")\n",
    "    x1 = lower_bound * lower_bound\n",
    "    x2 = lower_bound * upper_bound\n",
    "    x3 = upper_bound * upper_bound\n",
    "    x4 = upper_bound * lower_bound\n",
    "    y1 = lower_bound * (1 - lower_bound)\n",
    "    y2 = lower_bound * (1 - upper_bound)\n",
    "    y3 = upper_bound * (1 - upper_bound)\n",
    "    y4 = upper_bound * (1 - lower_bound)\n",
    "    axs[0].fill([x1, x2, x3, x4, x1], [y1, y2, y3, y4, y1], \"red\", alpha=0.5)\n",
    "\n",
    "    axs[1].set_title(\"Big-Step Lifting\")\n",
    "    \n",
    "    # box just with a and b\n",
    "    min_a = lower_bound * lower_bound\n",
    "    max_a = upper_bound * upper_bound\n",
    "    min_b = min(lower_bound * (1 - lower_bound), upper_bound * (1 - upper_bound))\n",
    "    max_b = 0.25 if lower_bound < 0.5 and upper_bound > 0.5 else max(lower_bound * (1 - lower_bound), upper_bound * (1 - upper_bound))\n",
    "    min_a = min(min_a, upper_bound - min_b)\n",
    "    \n",
    "    pol1 = Polygon([(min_a, min_b), (min_a, max_b), (max_a, max_b), (max_a, min_b)])\n",
    "    pol2 = Polygon([(upper_bound, 0), (0, upper_bound), (0, lower_bound), (lower_bound, 0)])\n",
    "    \n",
    "    def plot_polygon(pol):\n",
    "        x = []\n",
    "        y = []\n",
    "        for v in pol.exterior.coords:\n",
    "            x.append(v[0])\n",
    "            y.append(v[1])\n",
    "        x.append(pol.exterior.coords[0][0])\n",
    "        y.append(pol.exterior.coords[0][1])\n",
    "        axs[1].fill(x, y, \"green\", alpha=0.5)\n",
    "    plot_polygon(pol1.intersection(pol2))\n",
    "    plt.show()\n",
    "    \n",
    "interact(plot_with_region, lower_bound=FloatSlider(min=0.0, max=1.0, step=0.01, value=0.2), upper_bound=FloatSlider(min=0.0, max=1.0, step=0.01, value=0.7))\n",
    "plt.close()"
   ]
  },
  {
   "cell_type": "markdown",
   "metadata": {},
   "source": [
    "In the above plot, this is how I got the polygon for big-step lifting: First, collapse the transitions and give new names to the probabilities:\n",
    "\n",
    "<img src=\"3.jpeg\" width=\"400\"/>\n",
    "\n",
    "Now, we have these constraints:\n",
    "\n",
    "(1) $\\min(p^2) \\leq a \\leq \\max(p^2) \\implies l_b^2 < a < u_b^2$\n",
    "\n",
    "(2) $\\min(p \\cdot (1-p)) < b < \\max(p \\cdot (1-p)) \\implies $ case distinction expression of bounds for $b$\n",
    "\n",
    "(3) $\\min(1-p) \\leq 1 - a - b \\leq \\max(1-p) \\implies l_b \\leq a + b \\leq u_b$\n",
    "\n",
    "(1) and (2) form a rectangle and (3) forms a polygon with four vertices, intersecting these leads to the final convex polygon."
   ]
  },
  {
   "cell_type": "markdown",
   "metadata": {},
   "source": [
    "Let's now consider the case where a state has two successors that are $p$-transitions. First, we do a constant transformation like this:\n",
    "\n",
    "<img src=\"4.jpeg\" width=\"400\"/>\n",
    "\n",
    "There is only one $p$-transition pair after $p$ and one after $1-p$ because of time-travelling, so this is the most complex situation we have to handle. Now, let's do the renaming thing again, and let's consider a simplified scenario with no constants, as we have seen that we can weed them out:\n",
    "\n",
    "<img src=\"5.jpeg\" width=\"700\"/>\n",
    "\n",
    "Now, we have these constraints:\n",
    "\n",
    "(1) $\\min(p^2) \\leq a \\leq \\max(p^2) \\implies l_b^2 < a < u_b^2$\n",
    "\n",
    "(2) $\\min(2 \\cdot (p \\cdot (1-p))) < b < \\max(2 \\cdot (p \\cdot (1-p))) \\implies $ case distinction expression of bounds for $b$\n",
    "\n",
    "(3) $\\min((1-p)^2) \\leq 1 - a - b \\leq \\max((1-p)^2) \\implies (1 - u_b)^2 \\leq 1 - a - b \\leq (1 - l_b)^2 \\implies 1 - (1 - l_b)^2 \\leq a + b \\leq 1 - (1 - u_b)^2$\n",
    "\n",
    "(1) and (2) form a rectangle and (3) forms a polygon with four vertices, intersecting these leads to the final convex polygon.\n"
   ]
  },
  {
   "cell_type": "code",
   "execution_count": 18,
   "metadata": {},
   "outputs": [
    {
     "data": {
      "application/vnd.jupyter.widget-view+json": {
       "model_id": "e68030781aa34987ac31efa03a568dba",
       "version_major": 2,
       "version_minor": 0
      },
      "text/plain": [
       "interactive(children=(FloatSlider(value=0.2, description='lower_bound', max=1.0, step=0.01), FloatSlider(value…"
      ]
     },
     "metadata": {},
     "output_type": "display_data"
    }
   ],
   "source": [
    "def plot_with_region(lower_bound, upper_bound):\n",
    "    figs, axs = plt.subplots(1,2, figsize=(14, 7))\n",
    "    for ax in axs:\n",
    "        ax.set_xlim([0.0, 1.0])\n",
    "        ax.set_xlabel(\"prob to reach $s_1$ from $s_0$ ($=a$)\")\n",
    "        ax.set_ylim([0.0, 1.0])\n",
    "        ax.set_ylabel(\"prob to reach $s_3$ from $s_0$ ($=b$)\")\n",
    "        ax.plot(space * space, space * (1 - space))\n",
    "        ax.plot(lower_bound * lower_bound, lower_bound * (1 - lower_bound), \"bo\")\n",
    "        ax.plot(upper_bound * upper_bound, upper_bound * (1 - upper_bound), \"bo\")\n",
    "    \n",
    "    def plot_polygon(pol, ax, color=\"green\"):\n",
    "        x = []\n",
    "        y = []\n",
    "        for v in pol.exterior.coords:\n",
    "            x.append(v[0])\n",
    "            y.append(v[1])\n",
    "        x.append(pol.exterior.coords[0][0])\n",
    "        y.append(pol.exterior.coords[0][1])\n",
    "        ax.fill(x, y, color, alpha=0.5)\n",
    "    # standard PLA\n",
    "    axs[0].set_title(\"Standard PLA\")\n",
    "    x = [\n",
    "        lower_bound * lower_bound,\n",
    "        lower_bound * lower_bound,\n",
    "        lower_bound * upper_bound,\n",
    "        lower_bound * upper_bound,\n",
    "        upper_bound * upper_bound,\n",
    "        upper_bound * upper_bound,\n",
    "        upper_bound * lower_bound,\n",
    "        upper_bound * lower_bound\n",
    "    ]\n",
    "    y = [\n",
    "        (1 - lower_bound) * lower_bound,\n",
    "        (1 - lower_bound) * upper_bound,\n",
    "        (1 - lower_bound) * upper_bound,\n",
    "        (1 - lower_bound) * lower_bound,\n",
    "        (1 - upper_bound) * lower_bound,\n",
    "        (1 - upper_bound) * upper_bound,\n",
    "        (1 - upper_bound) * upper_bound,\n",
    "        (1 - upper_bound) * lower_bound,\n",
    "    ]\n",
    "    pol = Polygon([[x[i], y[i]] for i in range(len(x))]).convex_hull\n",
    "    plot_polygon(pol, axs[0], color=\"red\")\n",
    "\n",
    "    axs[1].set_title(\"Big-Step Lifting\")\n",
    "    \n",
    "    # box just with a and b\n",
    "    min_a = lower_bound * lower_bound\n",
    "    max_a = upper_bound * upper_bound\n",
    "    min_b = 2 * min(lower_bound * (1 - lower_bound), upper_bound * (1 - upper_bound))\n",
    "    max_b = 0.5 if lower_bound < 0.5 and upper_bound > 0.5 else 2 * max(lower_bound * (1 - lower_bound), upper_bound * (1 - upper_bound))\n",
    "    min_a = min(min_a, upper_bound - min_b)\n",
    "    \n",
    "    pol1 = Polygon([(min_a, 0.5 * min_b), (min_a, 0.5 * max_b), (max_a, 0.5 * max_b), (max_a, 0.5 * min_b)])#\n",
    "\n",
    "    u_a = 1 - (1 - upper_bound) * (1 - upper_bound)\n",
    "    l_a = 1 - (1 - lower_bound) * (1 - lower_bound)\n",
    "    pol2 = Polygon([(u_a, 0), (0, 0.5 * u_a), (0, 0.5 * l_a), (l_a, 0)])\n",
    "    \n",
    "    plot_polygon(pol1.intersection(pol2), axs[1])\n",
    "    \n",
    "i = interact(plot_with_region, lower_bound=FloatSlider(min=0.0, max=1.0, step=0.01, value=0.2), upper_bound=FloatSlider(min=0.0, max=1.0, step=0.01, value=0.7))\n"
   ]
  }
 ],
 "metadata": {
  "interpreter": {
   "hash": "b0fa6594d8f4cbf19f97940f81e996739fb7646882a419484c72d19e05852a7e"
  },
  "kernelspec": {
   "display_name": "Python 3.9.12 64-bit",
   "language": "python",
   "name": "python3"
  },
  "language_info": {
   "codemirror_mode": {
    "name": "ipython",
    "version": 3
   },
   "file_extension": ".py",
   "mimetype": "text/x-python",
   "name": "python",
   "nbconvert_exporter": "python",
   "pygments_lexer": "ipython3",
   "version": "3.9.12"
  },
  "orig_nbformat": 4
 },
 "nbformat": 4,
 "nbformat_minor": 2
}
